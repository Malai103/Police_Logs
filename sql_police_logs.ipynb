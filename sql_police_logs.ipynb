{
 "cells": [
  {
   "cell_type": "code",
   "execution_count": 1,
   "id": "a149a0ff",
   "metadata": {},
   "outputs": [
    {
     "name": "stdout",
     "output_type": "stream",
     "text": [
      "Requirement already satisfied: pandas in d:\\1_v_s_code file\\.venv\\lib\\site-packages (2.3.0)\n",
      "Requirement already satisfied: openpyxl in d:\\1_v_s_code file\\.venv\\lib\\site-packages (3.1.5)\n",
      "Requirement already satisfied: sqlalchemy in d:\\1_v_s_code file\\.venv\\lib\\site-packages (2.0.41)\n",
      "Requirement already satisfied: psycopg2 in d:\\1_v_s_code file\\.venv\\lib\\site-packages (2.9.10)\n",
      "Requirement already satisfied: numpy>=1.26.0 in d:\\1_v_s_code file\\.venv\\lib\\site-packages (from pandas) (2.3.0)\n",
      "Requirement already satisfied: python-dateutil>=2.8.2 in d:\\1_v_s_code file\\.venv\\lib\\site-packages (from pandas) (2.9.0.post0)\n",
      "Requirement already satisfied: pytz>=2020.1 in d:\\1_v_s_code file\\.venv\\lib\\site-packages (from pandas) (2025.2)\n",
      "Requirement already satisfied: tzdata>=2022.7 in d:\\1_v_s_code file\\.venv\\lib\\site-packages (from pandas) (2025.2)\n",
      "Requirement already satisfied: et-xmlfile in d:\\1_v_s_code file\\.venv\\lib\\site-packages (from openpyxl) (2.0.0)\n",
      "Requirement already satisfied: greenlet>=1 in d:\\1_v_s_code file\\.venv\\lib\\site-packages (from sqlalchemy) (3.2.3)\n",
      "Requirement already satisfied: typing-extensions>=4.6.0 in d:\\1_v_s_code file\\.venv\\lib\\site-packages (from sqlalchemy) (4.14.0)\n",
      "Requirement already satisfied: six>=1.5 in d:\\1_v_s_code file\\.venv\\lib\\site-packages (from python-dateutil>=2.8.2->pandas) (1.17.0)\n",
      "Note: you may need to restart the kernel to use updated packages.\n"
     ]
    }
   ],
   "source": [
    "pip install pandas openpyxl sqlalchemy psycopg2"
   ]
  },
  {
   "cell_type": "code",
   "execution_count": null,
   "id": "6fd48ffb",
   "metadata": {},
   "outputs": [
    {
     "data": {
      "text/html": [
       "<div>\n",
       "<style scoped>\n",
       "    .dataframe tbody tr th:only-of-type {\n",
       "        vertical-align: middle;\n",
       "    }\n",
       "\n",
       "    .dataframe tbody tr th {\n",
       "        vertical-align: top;\n",
       "    }\n",
       "\n",
       "    .dataframe thead th {\n",
       "        text-align: right;\n",
       "    }\n",
       "</style>\n",
       "<table border=\"1\" class=\"dataframe\">\n",
       "  <thead>\n",
       "    <tr style=\"text-align: right;\">\n",
       "      <th></th>\n",
       "      <th>country_name</th>\n",
       "      <th>driver_gender</th>\n",
       "      <th>driver_age</th>\n",
       "      <th>violation</th>\n",
       "      <th>search_conducted</th>\n",
       "      <th>search_type</th>\n",
       "      <th>stop_outcome</th>\n",
       "      <th>is_arrested</th>\n",
       "      <th>stop_duration</th>\n",
       "      <th>drugs_related_stop</th>\n",
       "      <th>vehicle_number</th>\n",
       "      <th>stop_datetime</th>\n",
       "    </tr>\n",
       "  </thead>\n",
       "  <tbody>\n",
       "    <tr>\n",
       "      <th>0</th>\n",
       "      <td>Canada</td>\n",
       "      <td>Male</td>\n",
       "      <td>19</td>\n",
       "      <td>Speeding</td>\n",
       "      <td>True</td>\n",
       "      <td>Vehicle Search</td>\n",
       "      <td>Ticket</td>\n",
       "      <td>True</td>\n",
       "      <td>16-30 min</td>\n",
       "      <td>True</td>\n",
       "      <td>UP76DY3473</td>\n",
       "      <td>2020-01-01 00:00:00</td>\n",
       "    </tr>\n",
       "    <tr>\n",
       "      <th>1</th>\n",
       "      <td>India</td>\n",
       "      <td>Male</td>\n",
       "      <td>58</td>\n",
       "      <td>Other</td>\n",
       "      <td>False</td>\n",
       "      <td>Vehicle Search</td>\n",
       "      <td>Arrest</td>\n",
       "      <td>True</td>\n",
       "      <td>16-30 min</td>\n",
       "      <td>True</td>\n",
       "      <td>RJ83PZ4441</td>\n",
       "      <td>2020-01-01 00:01:00</td>\n",
       "    </tr>\n",
       "    <tr>\n",
       "      <th>2</th>\n",
       "      <td>USA</td>\n",
       "      <td>Male</td>\n",
       "      <td>76</td>\n",
       "      <td>Speeding</td>\n",
       "      <td>False</td>\n",
       "      <td>Frisk</td>\n",
       "      <td>Ticket</td>\n",
       "      <td>True</td>\n",
       "      <td>16-30 min</td>\n",
       "      <td>True</td>\n",
       "      <td>RJ32OM7264</td>\n",
       "      <td>2020-01-01 00:02:00</td>\n",
       "    </tr>\n",
       "    <tr>\n",
       "      <th>3</th>\n",
       "      <td>Canada</td>\n",
       "      <td>Male</td>\n",
       "      <td>76</td>\n",
       "      <td>DUI</td>\n",
       "      <td>True</td>\n",
       "      <td>Frisk</td>\n",
       "      <td>Warning</td>\n",
       "      <td>False</td>\n",
       "      <td>0-15 min</td>\n",
       "      <td>True</td>\n",
       "      <td>RJ76TI3807</td>\n",
       "      <td>2020-01-01 00:03:00</td>\n",
       "    </tr>\n",
       "    <tr>\n",
       "      <th>4</th>\n",
       "      <td>Canada</td>\n",
       "      <td>Male</td>\n",
       "      <td>75</td>\n",
       "      <td>Other</td>\n",
       "      <td>False</td>\n",
       "      <td>Vehicle Search</td>\n",
       "      <td>Arrest</td>\n",
       "      <td>True</td>\n",
       "      <td>16-30 min</td>\n",
       "      <td>False</td>\n",
       "      <td>WB63BB8305</td>\n",
       "      <td>2020-01-01 00:04:00</td>\n",
       "    </tr>\n",
       "  </tbody>\n",
       "</table>\n",
       "</div>"
      ],
      "text/plain": [
       "  country_name driver_gender  driver_age violation  search_conducted  \\\n",
       "0       Canada          Male          19  Speeding              True   \n",
       "1        India          Male          58     Other             False   \n",
       "2          USA          Male          76  Speeding             False   \n",
       "3       Canada          Male          76       DUI              True   \n",
       "4       Canada          Male          75     Other             False   \n",
       "\n",
       "      search_type stop_outcome  is_arrested stop_duration  drugs_related_stop  \\\n",
       "0  Vehicle Search       Ticket         True     16-30 min                True   \n",
       "1  Vehicle Search       Arrest         True     16-30 min                True   \n",
       "2           Frisk       Ticket         True     16-30 min                True   \n",
       "3           Frisk      Warning        False      0-15 min                True   \n",
       "4  Vehicle Search       Arrest         True     16-30 min               False   \n",
       "\n",
       "  vehicle_number       stop_datetime  \n",
       "0     UP76DY3473 2020-01-01 00:00:00  \n",
       "1     RJ83PZ4441 2020-01-01 00:01:00  \n",
       "2     RJ32OM7264 2020-01-01 00:02:00  \n",
       "3     RJ76TI3807 2020-01-01 00:03:00  \n",
       "4     WB63BB8305 2020-01-01 00:04:00  "
      ]
     },
     "execution_count": 4,
     "metadata": {},
     "output_type": "execute_result"
    }
   ],
   "source": [
    "import pandas as pd\n",
    "# Read the excel file pre-Processed\n",
    "\n",
    "df = pd.read_excel(\"traffic_stops_cleaned data.xlsx\")\n",
    "df.head()"
   ]
  },
  {
   "cell_type": "code",
   "execution_count": null,
   "id": "8bcc4792",
   "metadata": {},
   "outputs": [],
   "source": []
  },
  {
   "cell_type": "code",
   "execution_count": 27,
   "id": "d26c6cb7",
   "metadata": {},
   "outputs": [
    {
     "data": {
      "text/plain": [
       "538"
      ]
     },
     "execution_count": 27,
     "metadata": {},
     "output_type": "execute_result"
    }
   ],
   "source": [
    "# Connect to PostgreSQL with cleaned data\n",
    "\n",
    "from sqlalchemy import String, Integer, Boolean, DateTime\n",
    "\n",
    "# PostgreSQL connection details\n",
    "username = \"postgres\"\n",
    "password = \"malai123\"\n",
    "host = \"localhost\"\n",
    "port = \"5432\"\n",
    "database = \"postgres\"\n",
    "\n",
    "\"\"\"Create connection string (+psycopg2: Specifies that the driver used to connect & postgresql: This tells \n",
    "SQLAlchemy you are connecting to a PostgreSQL database.)\"\"\"\n",
    "\n",
    "connection_string = f\"postgresql+psycopg2://{username}:{password}@{host}:{port}/{database}\"\n",
    "\n",
    "# Create SQLAlchemy engine\n",
    "engine = create_engine(connection_string)\n",
    "\n",
    "# Upload data to PostgreSQL\n",
    "table_name = \"traffic_logs\"  # You can change this\n",
    "df.to_sql(table_name, engine, if_exists='replace', index=False)"
   ]
  },
  {
   "cell_type": "code",
   "execution_count": 28,
   "id": "27fb1dfe",
   "metadata": {},
   "outputs": [
    {
     "data": {
      "text/plain": [
       "Index(['country_name', 'driver_gender', 'driver_age', 'violation',\n",
       "       'search_conducted', 'search_type', 'stop_outcome', 'is_arrested',\n",
       "       'stop_duration', 'drugs_related_stop', 'vehicle_number',\n",
       "       'stop_datetime'],\n",
       "      dtype='object')"
      ]
     },
     "execution_count": 28,
     "metadata": {},
     "output_type": "execute_result"
    }
   ],
   "source": [
    "df.columns"
   ]
  },
  {
   "cell_type": "code",
   "execution_count": 30,
   "id": "6eb3cd9e",
   "metadata": {},
   "outputs": [
    {
     "data": {
      "text/plain": [
       "538"
      ]
     },
     "execution_count": 30,
     "metadata": {},
     "output_type": "execute_result"
    }
   ],
   "source": [
    "# After check in the database all columns are ok but the data types are miss matched has to change\n",
    "# replace in PostgreSQL\n",
    "df.to_sql(\n",
    "    'traffic_logs',\n",
    "    engine,\n",
    "    if_exists='replace',\n",
    "    index=False,\n",
    "    dtype={\n",
    "        'country_name': String(15),\n",
    "        'driver_gender': String(10),\n",
    "        'driver_age': Integer(),\n",
    "        'violation': String(20),\n",
    "        'search_conducted': Boolean(),\n",
    "        'search_type': String(25),\n",
    "        'stop_outcome': String(20),\n",
    "        'is_arrested': Boolean(),\n",
    "        'stop_duration': String(25),\n",
    "        'drugs_related_stop': Boolean(),\n",
    "        'vehicle_number': String(20),\n",
    "        'stop_datetime': DateTime()\n",
    "    }\n",
    ")"
   ]
  },
  {
   "cell_type": "markdown",
   "id": "5e397f93",
   "metadata": {},
   "source": [
    "### MEDIUM LEVEL SQL QUERIES:\n",
    " "
   ]
  },
  {
   "cell_type": "code",
   "execution_count": null,
   "id": "5859b55f",
   "metadata": {},
   "outputs": [
    {
     "name": "stdout",
     "output_type": "stream",
     "text": [
      "  vehicle_number  stop_count\n",
      "0     TN16EN4769           1\n",
      "1     GJ99TA8565           1\n",
      "2     MH85NR6252           1\n",
      "3     RJ88QF9639           1\n",
      "4     WB82DO3310           1\n",
      "5     TN98SO9644           1\n",
      "6     RJ69QZ5424           1\n",
      "7     RJ79BO9666           1\n",
      "8     TN57CN7350           1\n",
      "9     TN72BR3512           1\n"
     ]
    }
   ],
   "source": [
    "# 1.What are the top 10 vehicle_Number involved in drug-related stops?\n",
    "query = \"\"\"\n",
    "SELECT vehicle_number, COUNT(*) AS stop_count\n",
    "FROM traffic_logs\n",
    "WHERE drugs_related_stop = TRUE\n",
    "GROUP BY vehicle_number\n",
    "ORDER BY stop_count DESC\n",
    "LIMIT 10;\n",
    "\"\"\"\n",
    "\n",
    "# Execute\n",
    "results = pd.read_sql(query, engine)\n",
    "\n",
    "print(results)"
   ]
  },
  {
   "cell_type": "code",
   "execution_count": null,
   "id": "fc2722d0",
   "metadata": {},
   "outputs": [
    {
     "name": "stdout",
     "output_type": "stream",
     "text": [
      "  vehicle_number  search_count\n",
      "0     TN24KB4148             1\n",
      "1     TN16EN4769             1\n",
      "2     MH85NR6252             1\n",
      "3     KA36NX6664             1\n",
      "4     WB82DO3310             1\n",
      "5     RJ14TR4444             1\n",
      "6     RJ49OQ1668             1\n",
      "7     MH21PZ2993             1\n",
      "8     RJ69QZ5424             1\n",
      "9     TN72BR3512             1\n"
     ]
    }
   ],
   "source": [
    "# 2. Which vehicles were most frequently searched?\n",
    "query = \"\"\"\n",
    "SELECT vehicle_number, COUNT(*) AS search_count\n",
    "FROM traffic_logs\n",
    "WHERE search_conducted = TRUE\n",
    "GROUP BY vehicle_number\n",
    "ORDER BY search_count DESC\n",
    "LIMIT 10;\n",
    "\"\"\"\n",
    "\n",
    "# Run the query\n",
    "results = pd.read_sql(query, engine)\n",
    "\n",
    "print(results)"
   ]
  },
  {
   "cell_type": "code",
   "execution_count": null,
   "id": "8aec424d",
   "metadata": {},
   "outputs": [
    {
     "name": "stdout",
     "output_type": "stream",
     "text": [
      "  age_group  arrest_rate_percentage\n",
      "0  Under 25                   51.15\n"
     ]
    }
   ],
   "source": [
    "# 3. Which driver age group had the highest arrest rate?\n",
    "query = \"\"\"\n",
    "SELECT\n",
    "    CASE\n",
    "        WHEN driver_age < 25 THEN 'Under 25'\n",
    "        WHEN driver_age BETWEEN 25 AND 40 THEN '25-40'\n",
    "        ELSE 'Over 40'\n",
    "    END AS age_group,\n",
    "    ROUND(AVG(CASE WHEN is_arrested = TRUE THEN 1 ELSE 0 END) * 100, 2) AS arrest_rate_percentage\n",
    "FROM traffic_logs\n",
    "GROUP BY age_group\n",
    "ORDER BY arrest_rate_percentage DESC\n",
    "LIMIT 1;\n",
    "\"\"\"\n",
    "\n",
    "# Run the query\n",
    "results = pd.read_sql(query, engine)\n",
    "\n",
    "print(results)\n"
   ]
  },
  {
   "cell_type": "code",
   "execution_count": 34,
   "id": "134288d6",
   "metadata": {},
   "outputs": [
    {
     "name": "stdout",
     "output_type": "stream",
     "text": [
      "  country_name driver_gender  total_count\n",
      "0       Canada        Female        10997\n",
      "1       Canada          Male        10911\n",
      "2        India        Female        11043\n",
      "3        India          Male        10955\n",
      "4          USA        Female        10841\n",
      "5          USA          Male        10791\n"
     ]
    }
   ],
   "source": [
    "# 4. What is the gender distribution of drivers stopped in each country?\n",
    "query = \"\"\"\n",
    "SELECT\n",
    "    country_name,\n",
    "    driver_gender,\n",
    "    COUNT(*) AS total_count\n",
    "FROM traffic_logs\n",
    "GROUP BY country_name, driver_gender\n",
    "ORDER BY country_name, total_count DESC;\n",
    "\"\"\"\n",
    "\n",
    "#  Run the query\n",
    "results = pd.read_sql(query, engine)\n",
    "\n",
    "print(results)\n"
   ]
  },
  {
   "cell_type": "code",
   "execution_count": null,
   "id": "505ac397",
   "metadata": {},
   "outputs": [
    {
     "name": "stdout",
     "output_type": "stream",
     "text": [
      "  driver_gender  search_rate_percentage\n",
      "0        Female                   50.14\n",
      "1          Male                   49.66\n"
     ]
    }
   ],
   "source": [
    "# 5. Which race and gender combination has the highest search rate?\n",
    "query = \"\"\"\n",
    "SELECT\n",
    "    driver_gender,\n",
    "    ROUND(AVG(CASE WHEN search_conducted = TRUE THEN 1 ELSE 0 END) * 100, 2) AS search_rate_percentage\n",
    "FROM traffic_logs\n",
    "GROUP BY driver_gender\n",
    "ORDER BY search_rate_percentage DESC\n",
    "LIMIT 2;\n",
    "\"\"\"\n",
    "\n",
    "# Run the query\n",
    "results = pd.read_sql(query, engine)\n",
    "\n",
    "print(results)"
   ]
  },
  {
   "cell_type": "code",
   "execution_count": 40,
   "id": "676b8ca8",
   "metadata": {},
   "outputs": [
    {
     "name": "stdout",
     "output_type": "stream",
     "text": [
      "   hour_of_day  stop_count\n",
      "0          8.0        2760\n"
     ]
    }
   ],
   "source": [
    "# 6. What time of day sees the most traffic stops?\n",
    "query = \"\"\"\n",
    "SELECT\n",
    "    EXTRACT(HOUR FROM stop_datetime) AS hour_of_day,\n",
    "    COUNT(*) AS stop_count\n",
    "FROM traffic_logs\n",
    "GROUP BY hour_of_day\n",
    "ORDER BY stop_count DESC\n",
    "LIMIT 1;\n",
    "\"\"\"\n",
    "\n",
    "# Run the query\n",
    "results = pd.read_sql(query, engine)\n",
    "\n",
    "print(results)"
   ]
  },
  {
   "cell_type": "code",
   "execution_count": null,
   "id": "3f8c4ae4",
   "metadata": {},
   "outputs": [
    {
     "name": "stdout",
     "output_type": "stream",
     "text": [
      "  violation  avg_stop_minutes\n",
      "0     Other             20.45\n",
      "1  Seatbelt             20.16\n",
      "2  Speeding             20.15\n",
      "3       DUI             20.09\n",
      "4    Signal             20.06\n"
     ]
    }
   ],
   "source": [
    "# 7. What is the average stop duration for different violations?\n",
    "query = \"\"\"\n",
    "SELECT\n",
    "    violation,\n",
    "    ROUND(AVG(duration_minutes)::numeric, 2) AS avg_stop_minutes\n",
    "FROM (\n",
    "    SELECT\n",
    "        violation,\n",
    "        CASE \n",
    "            WHEN stop_duration ~ '^[0-9]+-[0-9]+' THEN\n",
    "                (\n",
    "                    CAST(split_part(stop_duration, '-', 1) AS FLOAT) + \n",
    "                    CAST(split_part(split_part(stop_duration, ' ', 1), '-', 2) AS FLOAT)\n",
    "                ) / 2\n",
    "            WHEN stop_duration ~ '^[0-9]+' THEN\n",
    "                CAST(regexp_replace(stop_duration, '[^0-9]', '', 'g') AS FLOAT)\n",
    "            ELSE NULL\n",
    "        END AS duration_minutes\n",
    "    FROM traffic_logs\n",
    "    WHERE stop_duration IS NOT NULL\n",
    ") AS parsed\n",
    "WHERE duration_minutes IS NOT NULL\n",
    "GROUP BY violation\n",
    "ORDER BY avg_stop_minutes DESC;\n",
    "\"\"\"\n",
    "\n",
    "# 3️⃣ Run the query\n",
    "results = pd.read_sql(query, engine)\n",
    "\n",
    "# 4️⃣ Inspect\n",
    "print(results)"
   ]
  },
  {
   "cell_type": "code",
   "execution_count": null,
   "id": "8a8ecf4e",
   "metadata": {},
   "outputs": [
    {
     "name": "stdout",
     "output_type": "stream",
     "text": [
      "  time_of_day  arrest_rate_percentage  total_stops\n",
      "0         Day                   50.49        38178\n",
      "1       Night                   49.60        27360\n"
     ]
    }
   ],
   "source": [
    "# 8. Are stops during the night more likely to lead to arrests?\n",
    "query = \"\"\"\n",
    "SELECT\n",
    "    CASE \n",
    "        WHEN EXTRACT(HOUR FROM stop_datetime) >= 20 OR EXTRACT(HOUR FROM stop_datetime) < 6 \n",
    "        THEN 'Night'\n",
    "        ELSE 'Day'\n",
    "    END AS time_of_day,\n",
    "    ROUND(AVG(CASE WHEN is_arrested = TRUE THEN 1 ELSE 0 END) * 100, 2) AS arrest_rate_percentage,\n",
    "    COUNT(*) AS total_stops\n",
    "FROM traffic_logs\n",
    "GROUP BY time_of_day\n",
    "ORDER BY arrest_rate_percentage DESC;\n",
    "\"\"\"\n",
    "\n",
    "# Run the query\n",
    "results = pd.read_sql(query, engine)\n",
    "\n",
    "print(results)"
   ]
  },
  {
   "cell_type": "code",
   "execution_count": 47,
   "id": "665c1150",
   "metadata": {},
   "outputs": [
    {
     "name": "stdout",
     "output_type": "stream",
     "text": [
      "  violation  search_rate  arrest_rate  total_stops\n",
      "0  Seatbelt        50.45        50.53        13007\n",
      "1  Speeding        49.98        50.17        13150\n",
      "2       DUI        49.57        50.55        13075\n",
      "3    Signal        49.64        49.95        13112\n",
      "4     Other        49.84        49.39        13194\n"
     ]
    }
   ],
   "source": [
    "# 9.Which violations are most associated with searches or arrests?\n",
    "query = \"\"\"\n",
    "SELECT\n",
    "    violation,\n",
    "    ROUND(AVG(CASE WHEN search_conducted = TRUE THEN 1 ELSE 0 END) * 100, 2) AS search_rate,\n",
    "    ROUND(AVG(CASE WHEN is_arrested = TRUE THEN 1 ELSE 0 END) * 100, 2) AS arrest_rate,\n",
    "    COUNT(*) AS total_stops\n",
    "FROM traffic_logs\n",
    "GROUP BY violation\n",
    "ORDER BY (\n",
    "    AVG(CASE WHEN search_conducted = TRUE THEN 1 ELSE 0 END) * 100 +\n",
    "    AVG(CASE WHEN is_arrested = TRUE THEN 1 ELSE 0 END) * 100\n",
    ") DESC\n",
    "LIMIT 10;\n",
    "\"\"\"\n",
    "\n",
    "# Run the query\n",
    "results = pd.read_sql(query, engine)\n",
    "\n",
    "print(results)"
   ]
  },
  {
   "cell_type": "code",
   "execution_count": null,
   "id": "98a7122f",
   "metadata": {},
   "outputs": [
    {
     "name": "stdout",
     "output_type": "stream",
     "text": [
      "  violation  total_count\n",
      "0  Speeding         1476\n",
      "1    Signal         1427\n",
      "2     Other         1422\n",
      "3  Seatbelt         1420\n",
      "4       DUI         1359\n"
     ]
    }
   ],
   "source": [
    "# 10.Which violations are most common among younger drivers (<25)?\n",
    "query = \"\"\"\n",
    "SELECT\n",
    "    violation,\n",
    "    COUNT(*) AS total_count\n",
    "FROM traffic_logs\n",
    "WHERE driver_age < 25\n",
    "GROUP BY violation\n",
    "ORDER BY total_count DESC\n",
    "LIMIT 10;\n",
    "\"\"\"\n",
    "\n",
    "# Run the query\n",
    "results = pd.read_sql(query, engine)\n",
    "\n",
    "print(results)"
   ]
  },
  {
   "cell_type": "code",
   "execution_count": null,
   "id": "06226d05",
   "metadata": {},
   "outputs": [
    {
     "name": "stdout",
     "output_type": "stream",
     "text": [
      "  violation  search_rate  arrest_rate  total_count\n",
      "0     Other        49.84        49.39        13194\n",
      "1    Signal        49.64        49.95        13112\n",
      "2       DUI        49.57        50.55        13075\n",
      "3  Speeding        49.98        50.17        13150\n",
      "4  Seatbelt        50.45        50.53        13007\n"
     ]
    }
   ],
   "source": [
    "# 11.Is there a violation that rarely results in search or arrest?\n",
    "query = \"\"\"\n",
    "SELECT\n",
    "    violation,\n",
    "    ROUND(AVG(CASE WHEN search_conducted = TRUE THEN 1 ELSE 0 END) * 100, 2) AS search_rate,\n",
    "    ROUND(AVG(CASE WHEN is_arrested = TRUE THEN 1 ELSE 0 END) * 100, 2) AS arrest_rate,\n",
    "    COUNT(*) AS total_count\n",
    "FROM traffic_logs\n",
    "GROUP BY violation\n",
    "ORDER BY (\n",
    "    AVG(CASE WHEN search_conducted = TRUE THEN 1 ELSE 0 END) * 100 +\n",
    "    AVG(CASE WHEN is_arrested = TRUE THEN 1 ELSE 0 END) * 100\n",
    ") ASC\n",
    "LIMIT 10;\n",
    "\"\"\"\n",
    "\n",
    "# Run the query\n",
    "results = pd.read_sql(query, engine)\n",
    "\n",
    "print(results)"
   ]
  },
  {
   "cell_type": "code",
   "execution_count": null,
   "id": "b97b0763",
   "metadata": {},
   "outputs": [
    {
     "name": "stdout",
     "output_type": "stream",
     "text": [
      "  country_name  drug_related_rate  total_stops\n",
      "0          USA              50.37        21632\n",
      "1       Canada              50.10        21908\n",
      "2        India              49.54        21998\n"
     ]
    }
   ],
   "source": [
    "# 12.Which countries report the highest rate of drug-related stops?\n",
    "query = \"\"\"\n",
    "SELECT\n",
    "    country_name,\n",
    "    ROUND(AVG(CASE WHEN drugs_related_stop = TRUE THEN 1 ELSE 0 END) * 100, 2) AS drug_related_rate,\n",
    "    COUNT(*) AS total_stops\n",
    "FROM traffic_logs\n",
    "GROUP BY country_name\n",
    "ORDER BY drug_related_rate DESC\n",
    "LIMIT 10;\n",
    "\"\"\"\n",
    "\n",
    "# Run the query\n",
    "results = pd.read_sql(query, engine)\n",
    "\n",
    "print(results)"
   ]
  },
  {
   "cell_type": "code",
   "execution_count": 52,
   "id": "ddfcbb72",
   "metadata": {},
   "outputs": [
    {
     "name": "stdout",
     "output_type": "stream",
     "text": [
      "  country_name violation  arrest_rate  total_stops\n",
      "0       Canada       DUI        51.13         4414\n",
      "1        India       DUI        50.84         4420\n",
      "2        India  Speeding        50.76         4358\n",
      "3        India    Signal        50.65         4444\n",
      "4          USA  Seatbelt        50.58         4241\n",
      "5        India  Seatbelt        50.56         4345\n",
      "6       Canada  Seatbelt        50.46         4421\n",
      "7       Canada     Other        50.29         4371\n",
      "8          USA    Signal        49.99         4341\n",
      "9       Canada  Speeding        49.94         4375\n"
     ]
    }
   ],
   "source": [
    "# 13.What is the arrest rate by country and violation?\n",
    "query = \"\"\"\n",
    "SELECT\n",
    "    country_name,\n",
    "    violation,\n",
    "    ROUND(AVG(CASE WHEN is_arrested = TRUE THEN 1 ELSE 0 END) * 100, 2) AS arrest_rate,\n",
    "    COUNT(*) AS total_stops\n",
    "FROM traffic_logs\n",
    "GROUP BY country_name, violation\n",
    "ORDER BY arrest_rate DESC\n",
    "LIMIT 10;\n",
    "\"\"\"\n",
    "\n",
    "# Run the query\n",
    "results = pd.read_sql(query, engine)\n",
    "\n",
    "print(results)"
   ]
  },
  {
   "cell_type": "code",
   "execution_count": null,
   "id": "ddb774ba",
   "metadata": {},
   "outputs": [
    {
     "name": "stdout",
     "output_type": "stream",
     "text": [
      "  country_name  total_searches\n",
      "0       Canada           11020\n",
      "1        India           10959\n",
      "2          USA           10722\n"
     ]
    }
   ],
   "source": [
    "# 14.Which country has the most stops with search conducted?\n",
    "query = \"\"\"\n",
    "SELECT\n",
    "    country_name,\n",
    "    COUNT(*) AS total_searches\n",
    "FROM traffic_logs\n",
    "WHERE search_conducted = TRUE\n",
    "GROUP BY country_name\n",
    "ORDER BY total_searches DESC\n",
    "LIMIT 5;\n",
    "\"\"\"\n",
    "\n",
    "# Run the query\n",
    "results = pd.read_sql(query, engine)\n",
    "\n",
    "print(results)"
   ]
  },
  {
   "cell_type": "markdown",
   "id": "0186e7a1",
   "metadata": {},
   "source": [
    "### complex"
   ]
  },
  {
   "cell_type": "code",
   "execution_count": null,
   "id": "8c20f422",
   "metadata": {},
   "outputs": [
    {
     "name": "stdout",
     "output_type": "stream",
     "text": [
      "  country_name    year  total_stops  total_arrests  arrest_rate_percentage  \\\n",
      "0        India  2020.0        21998          11091                   50.42   \n",
      "1       Canada  2020.0        21908          10999                   50.21   \n",
      "2          USA  2020.0        21632          10756                   49.72   \n",
      "\n",
      "   rank_by_year  \n",
      "0             1  \n",
      "1             2  \n",
      "2             3  \n"
     ]
    }
   ],
   "source": [
    "# 1.Yearly Breakdown of Stops and Arrests by Country (Using Subquery and Window Functions)\n",
    "query = \"\"\"\n",
    "WITH yearly_data AS (\n",
    "    SELECT\n",
    "        country_name,\n",
    "        EXTRACT(YEAR FROM stop_datetime) AS year,\n",
    "        COUNT(*) AS total_stops,\n",
    "        SUM(CASE WHEN is_arrested = TRUE THEN 1 ELSE 0 END) AS total_arrests\n",
    "    FROM traffic_logs\n",
    "    GROUP BY country_name, EXTRACT(YEAR FROM stop_datetime)\n",
    ")\n",
    "SELECT\n",
    "    country_name,\n",
    "    year,\n",
    "    total_stops,\n",
    "    total_arrests,\n",
    "    ROUND((total_arrests::DECIMAL / total_stops) * 100, 2) AS arrest_rate_percentage,\n",
    "    RANK() OVER (PARTITION BY year ORDER BY total_stops DESC) AS rank_by_year\n",
    "FROM yearly_data\n",
    "ORDER BY year, rank_by_year;\n",
    "\"\"\"\n",
    "\n",
    "# Run the query\n",
    "results = pd.read_sql(query, engine)\n",
    "\n",
    "print(results)"
   ]
  },
  {
   "cell_type": "code",
   "execution_count": 55,
   "id": "c31f01d9",
   "metadata": {},
   "outputs": [
    {
     "name": "stdout",
     "output_type": "stream",
     "text": [
      "   age_group country_name violation  total_count  rank_in_group\n",
      "0      25–40       Canada  Seatbelt         1170              1\n",
      "1      25–40       Canada     Other         1128              2\n",
      "2      25–40       Canada       DUI         1108              3\n",
      "3      25–40       Canada  Speeding         1087              4\n",
      "4      25–40       Canada    Signal         1062              5\n",
      "5      25–40        India    Signal         1164              1\n",
      "6      25–40        India  Speeding         1134              2\n",
      "7      25–40        India       DUI         1133              3\n",
      "8      25–40        India     Other         1117              4\n",
      "9      25–40        India  Seatbelt         1072              5\n",
      "10     25–40          USA  Speeding         1126              1\n",
      "11     25–40          USA    Signal         1089              2\n",
      "12     25–40          USA  Seatbelt         1089              2\n",
      "13     25–40          USA       DUI         1085              4\n",
      "14     25–40          USA     Other         1083              5\n",
      "15   Over 40       Canada       DUI         2833              1\n",
      "16   Over 40       Canada  Speeding         2794              2\n",
      "17   Over 40       Canada     Other         2791              3\n",
      "18   Over 40       Canada    Signal         2771              4\n",
      "19   Over 40       Canada  Seatbelt         2770              5\n"
     ]
    }
   ],
   "source": [
    "# 2.Driver Violation Trends Based on Age and Race (Join with Subquery)\n",
    "query = \"\"\"\n",
    "WITH age_groups AS (\n",
    "    SELECT\n",
    "        CASE\n",
    "            WHEN driver_age < 25 THEN 'Under 25'\n",
    "            WHEN driver_age BETWEEN 25 AND 40 THEN '25–40'\n",
    "            ELSE 'Over 40'\n",
    "        END AS age_group,\n",
    "        country_name,\n",
    "        violation,\n",
    "        COUNT(*) AS total_count\n",
    "    FROM traffic_logs\n",
    "    GROUP BY 1, 2, 3\n",
    ")\n",
    "\n",
    "SELECT\n",
    "    age_group,\n",
    "    country_name,\n",
    "    violation,\n",
    "    total_count,\n",
    "    RANK() OVER (PARTITION BY age_group, country_name ORDER BY total_count DESC) AS rank_in_group\n",
    "FROM age_groups\n",
    "ORDER BY age_group, country_name, rank_in_group\n",
    "LIMIT 20;\n",
    "\"\"\"\n",
    "\n",
    "# Run the query\n",
    "results = pd.read_sql(query, engine)\n",
    "\n",
    "print(results)"
   ]
  },
  {
   "cell_type": "code",
   "execution_count": 56,
   "id": "1a6f8de4",
   "metadata": {},
   "outputs": [
    {
     "name": "stdout",
     "output_type": "stream",
     "text": [
      "      year  month  hour  total_stops\n",
      "0   2020.0    1.0   0.0         1860\n",
      "1   2020.0    1.0   1.0         1860\n",
      "2   2020.0    1.0   2.0         1860\n",
      "3   2020.0    1.0   3.0         1860\n",
      "4   2020.0    1.0   4.0         1860\n",
      "5   2020.0    1.0   5.0         1860\n",
      "6   2020.0    1.0   6.0         1860\n",
      "7   2020.0    1.0   7.0         1860\n",
      "8   2020.0    1.0   8.0         1860\n",
      "9   2020.0    1.0   9.0         1860\n",
      "10  2020.0    1.0  10.0         1860\n",
      "11  2020.0    1.0  11.0         1860\n",
      "12  2020.0    1.0  12.0         1860\n",
      "13  2020.0    1.0  13.0         1860\n",
      "14  2020.0    1.0  14.0         1860\n",
      "15  2020.0    1.0  15.0         1860\n",
      "16  2020.0    1.0  16.0         1860\n",
      "17  2020.0    1.0  17.0         1860\n",
      "18  2020.0    1.0  18.0         1860\n",
      "19  2020.0    1.0  19.0         1860\n",
      "20  2020.0    1.0  20.0         1860\n",
      "21  2020.0    1.0  21.0         1860\n",
      "22  2020.0    1.0  22.0         1860\n",
      "23  2020.0    1.0  23.0         1860\n",
      "24  2020.0    2.0   0.0          900\n",
      "25  2020.0    2.0   1.0          900\n",
      "26  2020.0    2.0   2.0          900\n",
      "27  2020.0    2.0   3.0          900\n",
      "28  2020.0    2.0   4.0          900\n",
      "29  2020.0    2.0   5.0          900\n",
      "30  2020.0    2.0   6.0          900\n",
      "31  2020.0    2.0   7.0          900\n",
      "32  2020.0    2.0   8.0          900\n",
      "33  2020.0    2.0   9.0          900\n",
      "34  2020.0    2.0  10.0          900\n",
      "35  2020.0    2.0  11.0          900\n",
      "36  2020.0    2.0  12.0          858\n",
      "37  2020.0    2.0  13.0          840\n",
      "38  2020.0    2.0  14.0          840\n",
      "39  2020.0    2.0  15.0          840\n",
      "40  2020.0    2.0  16.0          840\n",
      "41  2020.0    2.0  17.0          840\n",
      "42  2020.0    2.0  18.0          840\n",
      "43  2020.0    2.0  19.0          840\n",
      "44  2020.0    2.0  20.0          840\n",
      "45  2020.0    2.0  21.0          840\n",
      "46  2020.0    2.0  22.0          840\n",
      "47  2020.0    2.0  23.0          840\n"
     ]
    }
   ],
   "source": [
    "# 3.Time Period Analysis of Stops (Joining with Date Functions) , Number of Stops by Year,Month, Hour of the Day\n",
    "query = \"\"\"\n",
    "SELECT\n",
    "    EXTRACT(YEAR FROM stop_datetime) AS year,\n",
    "    EXTRACT(MONTH FROM stop_datetime) AS month,\n",
    "    EXTRACT(HOUR FROM stop_datetime) AS hour,\n",
    "    COUNT(*) AS total_stops\n",
    "FROM traffic_logs\n",
    "GROUP BY 1, 2, 3\n",
    "ORDER BY year, month, hour;\n",
    "\"\"\"\n",
    "\n",
    "# Run the query\n",
    "results = pd.read_sql(query, engine)\n",
    "\n",
    "print(results)"
   ]
  },
  {
   "cell_type": "code",
   "execution_count": 57,
   "id": "121a7fb5",
   "metadata": {},
   "outputs": [
    {
     "name": "stdout",
     "output_type": "stream",
     "text": [
      "  violation  search_rate  arrest_rate  combined_rate  rate_rank\n",
      "0  Seatbelt        50.45        50.53         100.98          1\n",
      "1  Speeding        49.98        50.17         100.15          2\n",
      "2       DUI        49.57        50.55         100.12          3\n",
      "3    Signal        49.64        49.95          99.59          4\n",
      "4     Other        49.84        49.39          99.23          5\n"
     ]
    }
   ],
   "source": [
    "# 4.Violations with High Search and Arrest Rates (Window Function)\n",
    "query = \"\"\"\n",
    "WITH stats AS (\n",
    "    SELECT\n",
    "        violation,\n",
    "        ROUND(AVG(CASE WHEN search_conducted = TRUE THEN 1 ELSE 0 END) * 100, 2) AS search_rate,\n",
    "        ROUND(AVG(CASE WHEN is_arrested = TRUE THEN 1 ELSE 0 END) * 100, 2) AS arrest_rate\n",
    "    FROM traffic_logs\n",
    "    GROUP BY violation\n",
    "),\n",
    "ranked AS (\n",
    "    SELECT\n",
    "        violation,\n",
    "        search_rate,\n",
    "        arrest_rate,\n",
    "        (search_rate + arrest_rate) AS combined_rate,\n",
    "        RANK() OVER (ORDER BY (search_rate + arrest_rate) DESC) AS rate_rank\n",
    "    FROM stats\n",
    ")\n",
    "SELECT *\n",
    "FROM ranked\n",
    "ORDER BY rate_rank\n",
    "LIMIT 10;\n",
    "\"\"\"\n",
    "\n",
    "# Run the query\n",
    "results = pd.read_sql(query, engine)\n",
    "\n",
    "print(results)"
   ]
  },
  {
   "cell_type": "code",
   "execution_count": 58,
   "id": "6884c6bb",
   "metadata": {},
   "outputs": [
    {
     "name": "stdout",
     "output_type": "stream",
     "text": [
      "   country_name age_group driver_gender  total_count  percentage_in_country\n",
      "0        Canada     25-40        Female         2749                  12.55\n",
      "1        Canada     25-40          Male         2806                  12.81\n",
      "2        Canada   Over 40        Female         7037                  32.12\n",
      "3        Canada   Over 40          Male         6922                  31.60\n",
      "4        Canada  Under 25        Female         1211                   5.53\n",
      "5        Canada  Under 25          Male         1183                   5.40\n",
      "6         India     25-40        Female         2825                  12.84\n",
      "7         India     25-40          Male         2795                  12.71\n",
      "8         India   Over 40        Female         7054                  32.07\n",
      "9         India   Over 40          Male         6972                  31.69\n",
      "10        India  Under 25        Female         1164                   5.29\n",
      "11        India  Under 25          Male         1188                   5.40\n",
      "12          USA     25-40        Female         2756                  12.74\n",
      "13          USA     25-40          Male         2716                  12.56\n",
      "14          USA   Over 40        Female         6884                  31.82\n",
      "15          USA   Over 40          Male         6918                  31.98\n",
      "16          USA  Under 25        Female         1201                   5.55\n",
      "17          USA  Under 25          Male         1157                   5.35\n"
     ]
    }
   ],
   "source": [
    "# 5.Driver Demographics by Country (Age, Gender, and Race)\n",
    "query = \"\"\"\n",
    "WITH age_groups AS (\n",
    "    SELECT\n",
    "        country_name,\n",
    "        CASE\n",
    "            WHEN driver_age < 25 THEN 'Under 25'\n",
    "            WHEN driver_age BETWEEN 25 AND 40 THEN '25-40'\n",
    "            ELSE 'Over 40'\n",
    "        END AS age_group,\n",
    "        driver_gender,\n",
    "        COUNT(*) AS total_count\n",
    "    FROM traffic_logs\n",
    "    GROUP BY country_name, age_group, driver_gender\n",
    ")\n",
    "SELECT\n",
    "    country_name,\n",
    "    age_group,\n",
    "    driver_gender,\n",
    "    total_count,\n",
    "    ROUND(100.0 * total_count / SUM(total_count) OVER (PARTITION BY country_name), 2) AS percentage_in_country\n",
    "FROM age_groups\n",
    "ORDER BY country_name, age_group, driver_gender;\n",
    "\"\"\"\n",
    "\n",
    "# Run the query\n",
    "results = pd.read_sql(query, engine)\n",
    "\n",
    "print(results)"
   ]
  },
  {
   "cell_type": "code",
   "execution_count": 59,
   "id": "82b07b28",
   "metadata": {},
   "outputs": [
    {
     "name": "stdout",
     "output_type": "stream",
     "text": [
      "  violation  arrest_rate  total_stops\n",
      "0       DUI        50.55        13075\n",
      "1  Seatbelt        50.53        13007\n",
      "2  Speeding        50.17        13150\n",
      "3    Signal        49.95        13112\n",
      "4     Other        49.39        13194\n"
     ]
    }
   ],
   "source": [
    "# 6.Top 5 Violations with Highest Arrest Rates\n",
    "query = \"\"\"\n",
    "SELECT\n",
    "    violation,\n",
    "    ROUND(AVG(CASE WHEN is_arrested = TRUE THEN 1 ELSE 0 END) * 100, 2) AS arrest_rate,\n",
    "    COUNT(*) AS total_stops\n",
    "FROM traffic_logs\n",
    "GROUP BY violation\n",
    "ORDER BY arrest_rate DESC\n",
    "LIMIT 5;\n",
    "\"\"\"\n",
    "\n",
    "# Run the query\n",
    "results = pd.read_sql(query, engine)\n",
    "\n",
    "print(results)"
   ]
  }
 ],
 "metadata": {
  "kernelspec": {
   "display_name": ".venv",
   "language": "python",
   "name": "python3"
  },
  "language_info": {
   "codemirror_mode": {
    "name": "ipython",
    "version": 3
   },
   "file_extension": ".py",
   "mimetype": "text/x-python",
   "name": "python",
   "nbconvert_exporter": "python",
   "pygments_lexer": "ipython3",
   "version": "3.12.10"
  }
 },
 "nbformat": 4,
 "nbformat_minor": 5
}
